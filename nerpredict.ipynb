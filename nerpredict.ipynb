{
 "cells": [
  {
   "cell_type": "code",
   "execution_count": 1,
   "metadata": {},
   "outputs": [
    {
     "name": "stderr",
     "output_type": "stream",
     "text": [
      "c:\\Users\\ege_g\\AppData\\Local\\Programs\\Python\\Python312\\Lib\\site-packages\\tqdm\\auto.py:21: TqdmWarning: IProgress not found. Please update jupyter and ipywidgets. See https://ipywidgets.readthedocs.io/en/stable/user_install.html\n",
      "  from .autonotebook import tqdm as notebook_tqdm\n"
     ]
    }
   ],
   "source": [
    "from torch.utils.data import Dataset\n",
    "import torch\n",
    "from tqdm import tqdm\n",
    "\n",
    "import json\n",
    "from transformers import BertTokenizerFast\n",
    "from torch.utils.data import DataLoader\n",
    "from transformers import BertConfig\n",
    "\n",
    "from torch import nn\n",
    "from transformers import BertModel, BertPreTrainedModel\n",
    "from sklearn.metrics import classification_report"
   ]
  },
  {
   "cell_type": "code",
   "execution_count": 2,
   "metadata": {},
   "outputs": [],
   "source": [
    "with open(\"nerdataset00.txt\", \"r\") as f:\n",
    "    dataset_json = json.load(f)\n"
   ]
  },
  {
   "cell_type": "code",
   "execution_count": 3,
   "metadata": {},
   "outputs": [],
   "source": [
    "label2id = {\n",
    "    \"O\": 0,\n",
    "    \"B-SUBSCRIPTION\": 1,\n",
    "    \"I-SUBSCRIPTION\": 2,\n",
    "    \"B-DATE\": 3,\n",
    "    \"I-DATE\": 4,\n",
    "    \"B-PRICE\": 5,\n",
    "    \"I-PRICE\": 6\n",
    "}\n",
    "id2label = {v: k for k, v in label2id.items()}\n"
   ]
  },
  {
   "cell_type": "code",
   "execution_count": 4,
   "metadata": {},
   "outputs": [],
   "source": [
    " \n",
    "\n",
    "class NERDataset(Dataset):\n",
    "    def __init__(self, data, tokenizer, label2id):\n",
    "        self.data = data\n",
    "        self.tokenizer = tokenizer\n",
    "        self.label2id = label2id\n",
    "\n",
    "    def __len__(self):\n",
    "        return len(self.data)\n",
    "\n",
    "    def __getitem__(self, idx):\n",
    "        item = self.data[idx]\n",
    "        tokens = item[\"tokens\"]\n",
    "        labels = item[\"labels\"]\n",
    "\n",
    "        encoding = self.tokenizer(tokens,\n",
    "                                  is_split_into_words=True,\n",
    "                                  return_offsets_mapping=True,\n",
    "                                  padding='max_length',\n",
    "                                  truncation=True,\n",
    "                                  max_length=128)\n",
    "\n",
    "        word_ids = encoding.word_ids()\n",
    "        label_ids = []\n",
    "\n",
    "        prev_word_idx = None\n",
    "        for word_idx in word_ids:\n",
    "            if word_idx is None:\n",
    "                label_ids.append(-100)\n",
    "            elif word_idx != prev_word_idx:\n",
    "                if word_idx < len(labels):  # ✅ prevent index error\n",
    "                    label_ids.append(self.label2id[labels[word_idx]])\n",
    "                else:\n",
    "                    label_ids.append(-100)  # fallback\n",
    "            else:\n",
    "                if word_idx < len(labels):\n",
    "                    label = labels[word_idx]\n",
    "                    if label.startswith(\"B-\"):\n",
    "                        label = label.replace(\"B-\", \"I-\")\n",
    "                    label_ids.append(self.label2id[label])\n",
    "                else:\n",
    "                    label_ids.append(-100)\n",
    "            prev_word_idx = word_idx\n",
    "        encoding.pop(\"offset_mapping\", None)\n",
    "        encoding[\"labels\"] = label_ids\n",
    "        return {key: torch.tensor(val) for key, val in encoding.items()}\n",
    "    \n",
    "\n",
    "\n",
    "\n",
    " \n"
   ]
  },
  {
   "cell_type": "code",
   "execution_count": 5,
   "metadata": {},
   "outputs": [],
   "source": [
    "tokenizer = BertTokenizerFast.from_pretrained(\"bert-base-uncased\")\n",
    "dataset = NERDataset(dataset_json, tokenizer, label2id)\n",
    "dataloader = DataLoader(dataset, batch_size=8, shuffle=True)"
   ]
  },
  {
   "cell_type": "code",
   "execution_count": 6,
   "metadata": {},
   "outputs": [],
   "source": [
    " \n",
    "class StrongNERModel(BertPreTrainedModel):\n",
    "    def __init__(self, config, num_labels):\n",
    "        super().__init__(config)\n",
    "        self.bert = BertModel(config)\n",
    "        self.dropout = nn.Dropout(0.3)\n",
    "        self.classifier = nn.Linear(config.hidden_size, num_labels)\n",
    "        self.init_weights()\n",
    "\n",
    "    def forward(self, input_ids, attention_mask, labels=None):\n",
    "        outputs = self.bert(input_ids=input_ids, attention_mask=attention_mask)\n",
    "        sequence_output = self.dropout(outputs.last_hidden_state)\n",
    "        logits = self.classifier(sequence_output)\n",
    "\n",
    "        loss = None\n",
    "        if labels is not None:\n",
    "            loss_fct = nn.CrossEntropyLoss(ignore_index=-100)\n",
    "            # reshape to (batch_size * seq_len, num_labels)\n",
    "            loss = loss_fct(logits.view(-1, self.classifier.out_features), labels.view(-1))\n",
    "\n",
    "        return (loss, logits) if labels is not None else logits\n"
   ]
  },
  {
   "cell_type": "code",
   "execution_count": 7,
   "metadata": {},
   "outputs": [
    {
     "name": "stderr",
     "output_type": "stream",
     "text": [
      "C:\\Users\\ege_g\\AppData\\Local\\Temp\\ipykernel_1884\\3391394931.py:9: FutureWarning: You are using `torch.load` with `weights_only=False` (the current default value), which uses the default pickle module implicitly. It is possible to construct malicious pickle data which will execute arbitrary code during unpickling (See https://github.com/pytorch/pytorch/blob/main/SECURITY.md#untrusted-models for more details). In a future release, the default value for `weights_only` will be flipped to `True`. This limits the functions that could be executed during unpickling. Arbitrary objects will no longer be allowed to be loaded via this mode unless they are explicitly allowlisted by the user via `torch.serialization.add_safe_globals`. We recommend you start setting `weights_only=True` for any use case where you don't have full control of the loaded file. Please open an issue on GitHub for any issues related to this experimental feature.\n",
      "  model.load_state_dict(torch.load(\"nermodel1.pth\", map_location=device))\n"
     ]
    }
   ],
   "source": [
    "#from transformers import get_linear_schedule_with_warmup\n",
    "from torch.optim import AdamW\n",
    "\n",
    "device = torch.device(\"cuda\" if torch.cuda.is_available() else \"cpu\")\n",
    "\n",
    "model_config = BertConfig.from_pretrained(\"bert-base-uncased\", num_labels=len(label2id))\n",
    "#model = StrongNERModel.from_pretrained(\"bert-base-uncased\", config=model_config, num_labels=len(label2id))\n",
    "model = StrongNERModel(model_config, num_labels=len(label2id))\n",
    "model.load_state_dict(torch.load(\"nermodel1.pth\", map_location=device))\n",
    "\n",
    "\n",
    "optimizer = AdamW(model.parameters(), lr=0.00001)\n",
    "total_steps = len(dataloader) * 5  "
   ]
  },
  {
   "cell_type": "code",
   "execution_count": 8,
   "metadata": {},
   "outputs": [],
   "source": [
    " \n",
    "\n",
    "def predict_entities(text, model, tokenizer, id2label):\n",
    "    model.to(device)\n",
    "    model.eval()\n",
    "    tokens = text.split()  # or use your own word splitting logic\n",
    "\n",
    "    encoding = tokenizer(tokens,\n",
    "                         is_split_into_words=True,\n",
    "                         return_offsets_mapping=True,\n",
    "                         return_tensors=\"pt\",\n",
    "                         truncation=True,\n",
    "                         padding='max_length',\n",
    "                         max_length=128)\n",
    "\n",
    "    with torch.no_grad():\n",
    "        input_ids = encoding[\"input_ids\"].to(device)\n",
    "        attention_mask = encoding[\"attention_mask\"].to(device)\n",
    "        outputs = model(input_ids=input_ids, attention_mask=attention_mask)\n",
    "        logits = outputs   # outputs = (loss, logits)\n",
    "        predictions = torch.argmax(logits, dim=2)\n",
    "\n",
    "    # Map back to word-level predictions\n",
    "    preds = predictions[0] \n",
    "    word_ids = encoding.word_ids()\n",
    "\n",
    "    results = []\n",
    "    prev_word_idx = None\n",
    "\n",
    "    for idx, word_idx in enumerate(word_ids):\n",
    "        if word_idx is None or word_idx == prev_word_idx:\n",
    "            continue\n",
    "\n",
    "        label_id = preds[idx]\n",
    "        label = id2label[label_id.item()]\n",
    "        word = tokens[word_idx]\n",
    "\n",
    "        results.append((word, label))\n",
    "        prev_word_idx = word_idx\n",
    "\n",
    "    return results\n"
   ]
  },
  {
   "cell_type": "code",
   "execution_count": 17,
   "metadata": {},
   "outputs": [
    {
     "name": "stdout",
     "output_type": "stream",
     "text": [
      "Dear                 --> O\n",
      "Ege,                 --> O\n",
      "your                 --> O\n",
      "Microsoft            --> B-SUBSCRIPTION\n",
      "Azure                --> I-SUBSCRIPTION\n",
      "monthly              --> I-SUBSCRIPTION\n",
      "payment              --> I-SUBSCRIPTION\n",
      "is                   --> O\n",
      "due                  --> O\n",
      "for                  --> O\n",
      "renewal              --> O\n",
      "on                   --> O\n",
      "January              --> B-DATE\n",
      "15,                  --> I-DATE\n",
      "2024.                --> I-DATE\n",
      "The                  --> O\n",
      "renewal              --> O\n",
      "fee                  --> O\n",
      "is                   --> O\n",
      "$15.                 --> B-PRICE\n"
     ]
    }
   ],
   "source": [
    "text = \"Dear Ege, your Microsoft Azure monthly payment is due for renewal on January 15, 2024. The renewal fee is $15.\"\n",
    "entities = predict_entities(text, model, tokenizer, id2label)\n",
    "\n",
    "for word, label in entities:\n",
    "    print(f\"{word:20} --> {label}\")\n"
   ]
  }
 ],
 "metadata": {
  "kernelspec": {
   "display_name": "Python 3",
   "language": "python",
   "name": "python3"
  },
  "language_info": {
   "codemirror_mode": {
    "name": "ipython",
    "version": 3
   },
   "file_extension": ".py",
   "mimetype": "text/x-python",
   "name": "python",
   "nbconvert_exporter": "python",
   "pygments_lexer": "ipython3",
   "version": "3.12.6"
  }
 },
 "nbformat": 4,
 "nbformat_minor": 2
}
